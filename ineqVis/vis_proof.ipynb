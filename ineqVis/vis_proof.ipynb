{
 "cells": [
  {
   "cell_type": "code",
   "execution_count": 1,
   "metadata": {
    "collapsed": true
   },
   "outputs": [],
   "source": [
    "import pickle\n",
    "from visualization.latex_parse import *"
   ]
  },
  {
   "cell_type": "code",
   "execution_count": 2,
   "metadata": {
    "collapsed": true
   },
   "outputs": [],
   "source": [
    "def proof_path_to_str(proof_path):\n",
    "    proof_str = \"\"\n",
    "    steps = pickle.load(open(proof_path, \"rb\"))\n",
    "    for step in steps:\n",
    "        proof_str += (\"*\" * 100 + \"\\n\")\n",
    "        proof_str += (step_to_latex(step) + \"\\n\")\n",
    "    return proof_str"
   ]
  },
  {
   "cell_type": "code",
   "execution_count": 5,
   "metadata": {},
   "outputs": [
    {
     "name": "stdout",
     "output_type": "stream",
     "text": [
      "****************************************************************************************************\n",
      "The observation: \n",
      "Ground truth:\n",
      "Objective:\n",
      "\t(((c*(b*b))*(c*(b*b)))*(-a))=((-a)*(((b*b)*(c*1))^2))\n",
      "Lemma name is: MultiplicationSimplification\n",
      "The 1th chosen input entity is c\n",
      "The 2th chosen input entity is 1\n",
      "\n",
      "****************************************************************************************************\n",
      "The observation: \n",
      "Ground truth:\n",
      "\t(c*1)=c\n",
      "Objective:\n",
      "\t(((c*(b*b))*(c*(b*b)))*(-a))=((-a)*(((b*b)*(c*1))^2))\n",
      "Lemma name is: MultiplicationCommutativity\n",
      "The 1th chosen input entity is (c*1)\n",
      "The 2th chosen input entity is (b*b)\n",
      "\n",
      "****************************************************************************************************\n",
      "The observation: \n",
      "Ground truth:\n",
      "\t(c*1)=c\n",
      "\t((c*1)*(b*b))=((b*b)*(c*1))\n",
      "Objective:\n",
      "\t(((c*(b*b))*(c*(b*b)))*(-a))=((-a)*(((b*b)*(c*1))^2))\n",
      "Lemma name is: EquivalenceSubstitution\n",
      "The 1th chosen input entity is (c*1)\n",
      "The 2th chosen input entity is c\n",
      "\n",
      "****************************************************************************************************\n",
      "The observation: \n",
      "Ground truth:\n",
      "\t(c*1)=c\n",
      "\t((c*1)*(b*b))=((b*b)*(c*1))\n",
      "\t(c*(b*b))=((b*b)*(c*1))\n",
      "Objective:\n",
      "\t(((c*(b*b))*(c*(b*b)))*(-a))=((-a)*(((b*b)*(c*1))^2))\n",
      "Lemma name is: SquareDefinition\n",
      "The 1th chosen input entity is (c*(b*b))\n",
      "\n",
      "****************************************************************************************************\n",
      "The observation: \n",
      "Ground truth:\n",
      "\t(c*1)=c\n",
      "\t((c*1)*(b*b))=((b*b)*(c*1))\n",
      "\t(c*(b*b))=((b*b)*(c*1))\n",
      "\t((c*(b*b))^2)=((c*(b*b))*(c*(b*b)))\n",
      "Objective:\n",
      "\t(((c*(b*b))*(c*(b*b)))*(-a))=((-a)*(((b*b)*(c*1))^2))\n",
      "Lemma name is: EquivalenceSubstitution\n",
      "The 1th chosen input entity is (c*(b*b))\n",
      "The 2th chosen input entity is ((b*b)*(c*1))\n",
      "\n",
      "****************************************************************************************************\n",
      "The observation: \n",
      "Ground truth:\n",
      "\t(c*1)=c\n",
      "\t((c*1)*(b*b))=((b*b)*(c*1))\n",
      "\t(c*(b*b))=((b*b)*(c*1))\n",
      "\t((c*(b*b))^2)=((c*(b*b))*(c*(b*b)))\n",
      "\t(((b*b)*(c*1))^2)=((c*(b*b))*(c*(b*b)))\n",
      "Objective:\n",
      "\t(((c*(b*b))*(c*(b*b)))*(-a))=((-a)*(((b*b)*(c*1))^2))\n",
      "Lemma name is: MultiplicationCommutativity\n",
      "The 1th chosen input entity is (((b*b)*(c*1))^2)\n",
      "The 2th chosen input entity is (-a)\n",
      "\n",
      "****************************************************************************************************\n",
      "The observation: \n",
      "Ground truth:\n",
      "\t(c*1)=c\n",
      "\t((c*1)*(b*b))=((b*b)*(c*1))\n",
      "\t(c*(b*b))=((b*b)*(c*1))\n",
      "\t((c*(b*b))^2)=((c*(b*b))*(c*(b*b)))\n",
      "\t(((b*b)*(c*1))^2)=((c*(b*b))*(c*(b*b)))\n",
      "\t((((b*b)*(c*1))^2)*(-a))=((-a)*(((b*b)*(c*1))^2))\n",
      "Objective:\n",
      "\t(((c*(b*b))*(c*(b*b)))*(-a))=((-a)*(((b*b)*(c*1))^2))\n",
      "Lemma name is: EquivalenceSubstitution\n",
      "The 1th chosen input entity is (((b*b)*(c*1))^2)\n",
      "The 2th chosen input entity is ((c*(b*b))*(c*(b*b)))\n",
      "\n",
      "\n"
     ]
    }
   ],
   "source": [
    "print(proof_path_to_str(\"/scratch/hdd001/home/ajiang/data/benchmark/random_specified/k=3_l=7/train/steps_18_0.p\"))"
   ]
  }
 ],
 "metadata": {
  "kernelspec": {
   "display_name": "Python 3",
   "language": "python",
   "name": "python3"
  },
  "language_info": {
   "codemirror_mode": {
    "name": "ipython",
    "version": 3
   },
   "file_extension": ".py",
   "mimetype": "text/x-python",
   "name": "python",
   "nbconvert_exporter": "python",
   "pygments_lexer": "ipython3",
   "version": "3.6.2"
  }
 },
 "nbformat": 4,
 "nbformat_minor": 2
}
