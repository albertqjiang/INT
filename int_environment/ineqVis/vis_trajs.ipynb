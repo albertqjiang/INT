{
 "cells": [
  {
   "cell_type": "code",
   "execution_count": 1,
   "metadata": {
    "collapsed": true
   },
   "outputs": [],
   "source": [
    "import json\n",
    "import os"
   ]
  },
  {
   "cell_type": "code",
   "execution_count": 2,
   "metadata": {
    "collapsed": true
   },
   "outputs": [],
   "source": [
    "def step_to_latex(step):\n",
    "    step_string = \"\"\n",
    "    step_string += \"The observation is: \\n\"\n",
    "    step_string += \"Ground truth:\\n\"\n",
    "    for gt in step[\"gt\"]:\n",
    "        step_string += \"\\t{}\\n\".format(gt)\n",
    "    step_string += \"Objective:\\n\"\n",
    "    step_string += \"\\t{}\\n\".format(step[\"obj\"][0])\n",
    "    step_string += \"Lemma name is: {}\\n\".format(step[\"lemma\"])\n",
    "    for i, in_ent in enumerate(step[\"input_entities\"]):\n",
    "        step_string += \"The {}th chosen input entity is {}\\n\".format(i + 1, in_ent)\n",
    "    return step_string"
   ]
  },
  {
   "cell_type": "code",
   "execution_count": 3,
   "metadata": {
    "collapsed": true
   },
   "outputs": [],
   "source": [
    "def traj_path_to_str(trajectories_path):\n",
    "    all_traj_strs = []\n",
    "    trajectories = json.load(open(trajectories_path, \"r\"))\n",
    "    for traj in trajectories:\n",
    "        single_traj_str = \"\"\n",
    "        for step in traj:\n",
    "            single_traj_str += (\"*\" * 100 + \"\\n\")\n",
    "            single_traj_str += (step_to_latex(step) + \"\\n\")\n",
    "        all_traj_strs.append(single_traj_str)\n",
    "    return all_traj_strs"
   ]
  },
  {
   "cell_type": "code",
   "execution_count": 7,
   "metadata": {
    "collapsed": true
   },
   "outputs": [],
   "source": [
    "all_traj_strs = traj_path_to_str(\n",
    "    \"/scratch/hdd001/home/ajiang/ywu/ineqResultsEasy/2019_11_27_03_50_30_744052/k4l7_test_right_case.json\")"
   ]
  },
  {
   "cell_type": "code",
   "execution_count": 8,
   "metadata": {},
   "outputs": [
    {
     "name": "stdout",
     "output_type": "stream",
     "text": [
      "****************************************************************************************************\n",
      "The observation is: \n",
      "Ground truth:\n",
      "Objective:\n",
      "\t((((b*a)*(-c))+(((a+b)*(c*a))*(-c)))*((c*a)*(-b)))=((((((b*a)+((c*a)*(a+b)))*(-c))*1)*(c*a))*(-b))\n",
      "Lemma name is: MultiplicationAssociativity\n",
      "The 1th chosen input entity is ((((b*a)+((c*a)*(a+b)))*(-c))*1)\n",
      "The 2th chosen input entity is (c*a)\n",
      "The 3th chosen input entity is (-b)\n",
      "\n",
      "****************************************************************************************************\n",
      "The observation is: \n",
      "Ground truth:\n",
      "\t(((((b*a)+((c*a)*(a+b)))*(-c))*1)*((c*a)*(-b)))=((((((b*a)+((c*a)*(a+b)))*(-c))*1)*(c*a))*(-b))\n",
      "Objective:\n",
      "\t((((b*a)*(-c))+(((a+b)*(c*a))*(-c)))*((c*a)*(-b)))=((((((b*a)+((c*a)*(a+b)))*(-c))*1)*(c*a))*(-b))\n",
      "Lemma name is: EquivalenceSubstitution\n",
      "The 1th chosen input entity is ((((b*a)+((c*a)*(a+b)))*(-c))*1)\n",
      "The 2th chosen input entity is (((b*a)*(-c))+(((a+b)*(c*a))*(-c)))\n",
      "\n",
      "****************************************************************************************************\n",
      "The observation is: \n",
      "Ground truth:\n",
      "\t(((((b*a)+((c*a)*(a+b)))*(-c))*1)*((c*a)*(-b)))=((((((b*a)+((c*a)*(a+b)))*(-c))*1)*(c*a))*(-b))\n",
      "Objective:\n",
      "\t((((b*a)+((c*a)*(a+b)))*(-c))*1)=(((b*a)*(-c))+(((a+b)*(c*a))*(-c)))\n",
      "Lemma name is: MultiplicationSimplification\n",
      "The 1th chosen input entity is (((b*a)+((c*a)*(a+b)))*(-c))\n",
      "The 2th chosen input entity is 1\n",
      "\n",
      "****************************************************************************************************\n",
      "The observation is: \n",
      "Ground truth:\n",
      "\t(((((b*a)+((c*a)*(a+b)))*(-c))*1)*((c*a)*(-b)))=((((((b*a)+((c*a)*(a+b)))*(-c))*1)*(c*a))*(-b))\n",
      "\t((((b*a)+((c*a)*(a+b)))*(-c))*1)=(((b*a)+((c*a)*(a+b)))*(-c))\n",
      "Objective:\n",
      "\t((((b*a)+((c*a)*(a+b)))*(-c))*1)=(((b*a)*(-c))+(((a+b)*(c*a))*(-c)))\n",
      "Lemma name is: EquivalenceSubstitution\n",
      "The 1th chosen input entity is (((b*a)+((c*a)*(a+b)))*(-c))\n",
      "The 2th chosen input entity is (((b*a)*(-c))+(((a+b)*(c*a))*(-c)))\n",
      "\n",
      "****************************************************************************************************\n",
      "The observation is: \n",
      "Ground truth:\n",
      "\t(((((b*a)+((c*a)*(a+b)))*(-c))*1)*((c*a)*(-b)))=((((((b*a)+((c*a)*(a+b)))*(-c))*1)*(c*a))*(-b))\n",
      "\t((((b*a)+((c*a)*(a+b)))*(-c))*1)=(((b*a)+((c*a)*(a+b)))*(-c))\n",
      "Objective:\n",
      "\t(((b*a)+((c*a)*(a+b)))*(-c))=(((b*a)*(-c))+(((a+b)*(c*a))*(-c)))\n",
      "Lemma name is: AdditionMultiplicationLeftDistribution\n",
      "The 1th chosen input entity is (-c)\n",
      "The 2th chosen input entity is (b*a)\n",
      "The 3th chosen input entity is ((a+b)*(c*a))\n",
      "\n",
      "****************************************************************************************************\n",
      "The observation is: \n",
      "Ground truth:\n",
      "\t(((((b*a)+((c*a)*(a+b)))*(-c))*1)*((c*a)*(-b)))=((((((b*a)+((c*a)*(a+b)))*(-c))*1)*(c*a))*(-b))\n",
      "\t((((b*a)+((c*a)*(a+b)))*(-c))*1)=(((b*a)+((c*a)*(a+b)))*(-c))\n",
      "\t(((b*a)+((a+b)*(c*a)))*(-c))=(((b*a)*(-c))+(((a+b)*(c*a))*(-c)))\n",
      "Objective:\n",
      "\t(((b*a)+((c*a)*(a+b)))*(-c))=(((b*a)*(-c))+(((a+b)*(c*a))*(-c)))\n",
      "Lemma name is: AdditionMultiplicationLeftDistribution\n",
      "The 1th chosen input entity is (-c)\n",
      "The 2th chosen input entity is (b*a)\n",
      "The 3th chosen input entity is ((a+b)*(c*a))\n",
      "\n",
      "****************************************************************************************************\n",
      "The observation is: \n",
      "Ground truth:\n",
      "\t(((((b*a)+((c*a)*(a+b)))*(-c))*1)*((c*a)*(-b)))=((((((b*a)+((c*a)*(a+b)))*(-c))*1)*(c*a))*(-b))\n",
      "\t((((b*a)+((c*a)*(a+b)))*(-c))*1)=(((b*a)+((c*a)*(a+b)))*(-c))\n",
      "\t(((b*a)+((a+b)*(c*a)))*(-c))=(((b*a)*(-c))+(((a+b)*(c*a))*(-c)))\n",
      "Objective:\n",
      "\t(((b*a)+((c*a)*(a+b)))*(-c))=(((b*a)*(-c))+(((a+b)*(c*a))*(-c)))\n",
      "Lemma name is: EquivalenceSubstitution\n",
      "The 1th chosen input entity is ((a+b)*(c*a))\n",
      "The 2th chosen input entity is ((c*a)*(a+b))\n",
      "\n",
      "****************************************************************************************************\n",
      "The observation is: \n",
      "Ground truth:\n",
      "\t(((((b*a)+((c*a)*(a+b)))*(-c))*1)*((c*a)*(-b)))=((((((b*a)+((c*a)*(a+b)))*(-c))*1)*(c*a))*(-b))\n",
      "\t((((b*a)+((c*a)*(a+b)))*(-c))*1)=(((b*a)+((c*a)*(a+b)))*(-c))\n",
      "\t(((b*a)+((a+b)*(c*a)))*(-c))=(((b*a)*(-c))+(((a+b)*(c*a))*(-c)))\n",
      "Objective:\n",
      "\t((a+b)*(c*a))=((c*a)*(a+b))\n",
      "Lemma name is: MultiplicationCommutativity\n",
      "The 1th chosen input entity is (a+b)\n",
      "The 2th chosen input entity is (c*a)\n",
      "\n",
      "\n"
     ]
    }
   ],
   "source": [
    "print(all_traj_strs[0])"
   ]
  }
 ],
 "metadata": {
  "kernelspec": {
   "display_name": "Python 3",
   "language": "python",
   "name": "python3"
  },
  "language_info": {
   "codemirror_mode": {
    "name": "ipython",
    "version": 3
   },
   "file_extension": ".py",
   "mimetype": "text/x-python",
   "name": "python",
   "nbconvert_exporter": "python",
   "pygments_lexer": "ipython3",
   "version": "3.6.2"
  }
 },
 "nbformat": 4,
 "nbformat_minor": 2
}
